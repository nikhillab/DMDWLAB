{
 "cells": [
  {
   "cell_type": "code",
   "execution_count": null,
   "metadata": {
    "id": "ZB-Vz78pHy69"
   },
   "outputs": [],
   "source": []
  },
  {
   "cell_type": "markdown",
   "metadata": {
    "id": "xZnG5CA-KGmt"
   },
   "source": [
    "Q.1 Write a python code for finding mean,median and mode with and without using library functions."
   ]
  },
  {
   "cell_type": "code",
   "execution_count": 2,
   "metadata": {
    "colab": {
     "base_uri": "https://localhost:8080/"
    },
    "id": "GmkLTbuLKbQ5",
    "outputId": "15b724c1-5f18-440f-805c-0753f218b13d"
   },
   "outputs": [
    {
     "name": "stdout",
     "output_type": "stream",
     "text": [
      "enter number of elements:5\n",
      "6\n",
      "7\n",
      "8\n",
      "9\n",
      "9\n",
      "[6, 7, 8, 9, 9]\n",
      "Mean of list1:7.8\n",
      "[6, 7, 8, 9, 9]\n",
      "Median of list1:8\n",
      "Mode(s) is/are:{9}\n"
     ]
    }
   ],
   "source": [
    "list1=[]\n",
    "n=int(input(\"enter number of elements:\"))\n",
    "for i in range(0,n):\n",
    "  item=int(input())\n",
    "  list1.append(item)\n",
    "\n",
    "#finding mean\n",
    "\n",
    "num_sum = sum(list1)\n",
    "mean = num_sum / len(list1)\n",
    "print(list1)\n",
    "print(\"Mean of list1:\" + str(round(mean,2)))\n",
    "\n",
    "\n",
    "#finding median\n",
    "\n",
    "list1.sort()\n",
    "if len(list1) % 2 == 0:\n",
    "  median1 = list1[len(list1) // 2]\n",
    "  median2 = list1[len(list1) // 2-1]\n",
    "  median = (median1 + median2) / 2\n",
    "else:\n",
    "  median = list1[len(list1) // 2]\n",
    "print(list1)\n",
    "print(\"Median of list1:\" + str(median))\n",
    "\n",
    "\n",
    "#finding mode\n",
    "\n",
    "L1=[]\n",
    "\n",
    "j=0\n",
    "while j < len(list1):\n",
    "  L1.append(list1.count(list1[j]))\n",
    "  j+=1\n",
    "\n",
    "d1 = dict(zip(list1,L1))\n",
    "\n",
    "d2={k for (k,v) in d1.items() if v == max(L1) }\n",
    "\n",
    "print(\"Mode(s) is/are:\" + str(d2))"
   ]
  },
  {
   "cell_type": "markdown",
   "metadata": {
    "id": "VPfoqwaUPG4a"
   },
   "source": [
    "Q.2 Write a python code for calculating variance and standard deviation for the set of elements with or without using library functions.\n",
    "\n"
   ]
  },
  {
   "cell_type": "code",
   "execution_count": 3,
   "metadata": {
    "colab": {
     "base_uri": "https://localhost:8080/"
    },
    "id": "edmRBOV3Pe5U",
    "outputId": "2f02a8b5-051e-4047-c498-7af927b9f767"
   },
   "outputs": [
    {
     "name": "stdout",
     "output_type": "stream",
     "text": [
      "enter nuber of elements:5\n",
      "6\n",
      "7\n",
      "8\n",
      "8\n",
      "9\n",
      "[6, 7, 8, 8, 9]\n",
      "Variance: 1.0399999999999998\n",
      "Estimation value for variance: 1.2999999999999998\n",
      "Standard Deviation: 1.0198039027185568\n",
      "Estimated value for Standard Devaition: 1.1401754250991378\n"
     ]
    }
   ],
   "source": [
    "list1=[]\n",
    "n=int(input(\"enter nuber of elements:\"))\n",
    "for i in range(0,n):\n",
    "  item=int(input())\n",
    "  list1.append(item)\n",
    "\n",
    "#finding variance\n",
    "\n",
    "ddof=0\n",
    "ddof1=1\n",
    "n = len(list1)\n",
    "mean = sum(list1) / n\n",
    "s1=sum((x - mean) ** 2 for x in list1) / (n - ddof)\n",
    "s2=sum((x - mean) ** 2 for x in list1) / (n - ddof1)\n",
    "print(list1)\n",
    "print(\"Variance:\" ,s1)\n",
    "print(\"Estimation value for variance:\" ,s2)\n",
    "\n",
    "#finding standard deviation\n",
    "\n",
    "var = s1\n",
    "var1 = s2\n",
    "std_dev = (var)**(1/2)\n",
    "estd_dev = (var1)**(1/2)\n",
    "print(\"Standard Deviation:\" ,std_dev)\n",
    "print(\"Estimated value for Standard Devaition:\",estd_dev)"
   ]
  },
  {
   "cell_type": "code",
   "execution_count": null,
   "metadata": {
    "id": "mdbWxJQePGcR"
   },
   "outputs": [],
   "source": []
  },
  {
   "cell_type": "markdown",
   "metadata": {
    "id": "zt0u_btLVEt2"
   },
   "source": [
    "Q.3. Practice some basic python programs with list,tuple,dictionary & string.\n",
    "\n",
    "\n",
    "a)List"
   ]
  },
  {
   "cell_type": "code",
   "execution_count": 4,
   "metadata": {
    "colab": {
     "base_uri": "https://localhost:8080/"
    },
    "id": "xZ5ByFjhVioB",
    "outputId": "694cdacf-9cef-443c-97d4-137b2bd225ab"
   },
   "outputs": [
    {
     "name": "stdout",
     "output_type": "stream",
     "text": [
      "length 4\n",
      "Sorting: [1, 2, 3, 6, 7, 10, 99]\n",
      "Remove the element 10: [1, 2, 3, 6, 7, 99]\n",
      "Delete 1st index [1, 'Harry', 'Sara', 5]\n",
      "Insert a value at 2nd index [1, 'Harry', 22, 'Sara', 5]\n",
      "['Sara', 'Harry', 10, 1]\n",
      "['Sara', 'Harry', 10, 1]\n",
      "[2, 5, 4, 1, 7, 8, 9, 3]\n"
     ]
    }
   ],
   "source": [
    "def listex():\n",
    "  l1=[1,11,\"Harry\",\"Sara\"]\n",
    "  print(\"length\",len(l1))\n",
    "  l1.append(5)\n",
    "  l2=[6,7,1,99,2,3,10]\n",
    "  l2.sort()\n",
    "  print(\"Sorting:\",l2)\n",
    "  l2.remove(10)\n",
    "  print(\"Remove the element 10:\",l2)\n",
    "  del l1[1]\n",
    "  print(\"Delete 1st index\",l1)\n",
    "  l1.insert(2,22)\n",
    "  print(\"Insert a value at 2nd index\",l1)\n",
    "listex()\n",
    "def listex1():\n",
    "  l11=[1,10,\"Harry\",\"Sara\"]\n",
    "  r1=[]\n",
    "  for j in l11[::-1]:\n",
    "    r1.append(j)\n",
    "  print(r1)\n",
    "  l11.reverse()\n",
    "  print(l11)\n",
    "listex1()\n",
    "def listex2():\n",
    "  l22=[2,5,4,1,7,8,9,3]\n",
    "  l=[]\n",
    "  for k in l22:\n",
    "    if k not in l:\n",
    "      l.append(k)\n",
    "  print(l)\n",
    "listex2()        "
   ]
  },
  {
   "cell_type": "markdown",
   "metadata": {
    "id": "I9GVOo41YKcB"
   },
   "source": [
    "b)Tuple"
   ]
  },
  {
   "cell_type": "code",
   "execution_count": 5,
   "metadata": {
    "colab": {
     "base_uri": "https://localhost:8080/"
    },
    "id": "UbEbjULdYNNx",
    "outputId": "8da4509d-2201-4c91-d130-ac4337158b98"
   },
   "outputs": [
    {
     "name": "stdout",
     "output_type": "stream",
     "text": [
      "Elements in t1: (1, 11, 'Rosy', 'Jake')\n",
      "Mrge: (1, 11, 'Rosy', 'Jake', 5, 10, 15, 20, 25)\n",
      "Slice: (11, 'Rosy')\n",
      "Slice: (25, 20, 15, 10, 5)\n",
      "Multiply: (1, 11, 'Rosy', 'Jake', 1, 11, 'Rosy', 'Jake')\n"
     ]
    }
   ],
   "source": [
    "def tuplex():\n",
    "  t1=(1,11,\"Rosy\",\"Jake\")\n",
    "  print(\"Elements in t1:\",t1)\n",
    "  t2=(5,10,15,20,25)\n",
    "  t3=t1+t2\n",
    "  print(\"Mrge:\",t3)\n",
    "  print(\"Slice:\",t1[1:3])\n",
    "  print(\"Slice:\",t2[::-1])\n",
    "  print(\"Multiply:\",t1*2)\n",
    "tuplex()"
   ]
  },
  {
   "cell_type": "code",
   "execution_count": null,
   "metadata": {
    "id": "aFSfzlSEVbCG"
   },
   "outputs": [],
   "source": []
  },
  {
   "cell_type": "markdown",
   "metadata": {
    "id": "bkAjNGguZJHm"
   },
   "source": [
    "c)Dictionary"
   ]
  },
  {
   "cell_type": "code",
   "execution_count": 6,
   "metadata": {
    "colab": {
     "base_uri": "https://localhost:8080/"
    },
    "id": "wwwstZgNZMf_",
    "outputId": "335a1e0a-56a2-4625-9b4a-9277c8d8af9f",
    "scrolled": true
   },
   "outputs": [
    {
     "name": "stdout",
     "output_type": "stream",
     "text": [
      "{1: 15, 2: 22, 3: 33, 5: 55}\n",
      "Keys: dict_keys([1, 2, 3, 5])\n",
      "Value: dict_values([15, 22, 33, 55])\n",
      "15\n"
     ]
    }
   ],
   "source": [
    "def dictex():\n",
    "  d1={1:11,2:22,3:33,5:55,1:15}\n",
    "  print(d1)\n",
    "  print(\"Keys:\",d1.keys())\n",
    "  print(\"Value:\",d1.values())\n",
    "  print(d1[1])\n",
    "\n",
    "dictex()"
   ]
  },
  {
   "cell_type": "markdown",
   "metadata": {
    "id": "ZSbISz-FZvdM"
   },
   "source": []
  },
  {
   "cell_type": "code",
   "execution_count": null,
   "metadata": {
    "colab": {
     "base_uri": "https://localhost:8080/"
    },
    "id": "ejMKSZrsZyST",
    "outputId": "aca17b79-6992-4d72-cdd8-a81f06fd83da"
   },
   "outputs": [],
   "source": []
  },
  {
   "cell_type": "code",
   "execution_count": null,
   "metadata": {},
   "outputs": [],
   "source": []
  }
 ],
 "metadata": {
  "colab": {
   "name": "Assignment1.ipynb",
   "provenance": []
  },
  "kernelspec": {
   "display_name": "Python 3",
   "language": "python",
   "name": "python3"
  },
  "language_info": {
   "codemirror_mode": {
    "name": "ipython",
    "version": 3
   },
   "file_extension": ".py",
   "mimetype": "text/x-python",
   "name": "python",
   "nbconvert_exporter": "python",
   "pygments_lexer": "ipython3",
   "version": "3.7.3"
  }
 },
 "nbformat": 4,
 "nbformat_minor": 1
}
